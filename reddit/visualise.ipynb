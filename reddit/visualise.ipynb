{
 "cells": [
  {
   "cell_type": "code",
   "execution_count": 68,
   "metadata": {},
   "outputs": [],
   "source": [
    "import matplotlib.pyplot as plt\n",
    "import pandas as pd\n",
    "import os\n",
    "import datetime\n",
    "import yaml\n",
    "from pathlib import Path\n",
    "import numpy as np"
   ]
  },
  {
   "cell_type": "code",
   "execution_count": 21,
   "metadata": {},
   "outputs": [],
   "source": [
    "# read in yaml file (containing user inputs)\n",
    "yml_path = f\"{os.path.dirname(__file__)}/user_inputs.yml\"\n",
    "with open(yml_path) as f:\n",
    "    inputs = yaml.safe_load(f)\n",
    "\n",
    "# paths\n",
    "generic_pictures_path = Path.home() / \"Pictures\"\n",
    "today = datetime.date.today().strftime(\"%Y_%m_%d\")\n",
    "output_path = f\"{generic_pictures_path}\\{inputs['subreddit_name']}\"\n",
    "\n",
    "# import data\n",
    "df = pd.read_csv(f'{output_path}\\{inputs[\"subreddit_name\"]}.csv')\n",
    "df['datetime_utc'] = pd.to_datetime(df['datetime_utc'])"
   ]
  },
  {
   "cell_type": "code",
   "execution_count": 45,
   "metadata": {},
   "outputs": [
    {
     "name": "stdout",
     "output_type": "stream",
     "text": [
      "Subreddit name: anime\n",
      "Time filter: month\n",
      "Post limit: 50\n"
     ]
    }
   ],
   "source": [
    "# configuration\n",
    "\n",
    "print(f\"Subreddit name: {inputs['subreddit_name']}\")\n",
    "print(f\"Time filter: {inputs['time_filter']}\")\n",
    "print(f\"Post limit: {inputs['post_limit']}\")\n"
   ]
  },
  {
   "cell_type": "code",
   "execution_count": 61,
   "metadata": {},
   "outputs": [],
   "source": [
    "# data manipulation\n",
    "\n",
    "# create date columns\n",
    "df['hour'] = df['datetime_utc'].dt.hour\n",
    "df['day'] = df['datetime_utc'].dt.day\n",
    "df['date'] = pd.to_datetime(df['datetime_utc']).dt.date\n",
    "df['year_month'] = df['datetime_utc'].to_numpy().astype('datetime64[M]')\n"
   ]
  },
  {
   "cell_type": "code",
   "execution_count": 65,
   "metadata": {},
   "outputs": [
    {
     "data": {
      "text/html": [
       "<div>\n",
       "<style scoped>\n",
       "    .dataframe tbody tr th:only-of-type {\n",
       "        vertical-align: middle;\n",
       "    }\n",
       "\n",
       "    .dataframe tbody tr th {\n",
       "        vertical-align: top;\n",
       "    }\n",
       "\n",
       "    .dataframe thead th {\n",
       "        text-align: right;\n",
       "    }\n",
       "</style>\n",
       "<table border=\"1\" class=\"dataframe\">\n",
       "  <thead>\n",
       "    <tr style=\"text-align: right;\">\n",
       "      <th></th>\n",
       "      <th>title</th>\n",
       "      <th>score</th>\n",
       "      <th>total_comments</th>\n",
       "      <th>post_url</th>\n",
       "      <th>datetime_utc</th>\n",
       "      <th>hour</th>\n",
       "      <th>day</th>\n",
       "      <th>date</th>\n",
       "      <th>month</th>\n",
       "      <th>year_month</th>\n",
       "    </tr>\n",
       "  </thead>\n",
       "  <tbody>\n",
       "    <tr>\n",
       "      <th>0</th>\n",
       "      <td>\"Mushoku Tensei\" Thank You Illustration by Dir...</td>\n",
       "      <td>17547</td>\n",
       "      <td>587</td>\n",
       "      <td>https://i.redd.it/1h0riorejo681.jpg</td>\n",
       "      <td>2021-12-20 22:04:56</td>\n",
       "      <td>22</td>\n",
       "      <td>20</td>\n",
       "      <td>2021-12-20</td>\n",
       "      <td>2021-12-01</td>\n",
       "      <td>2021-12-01</td>\n",
       "    </tr>\n",
       "    <tr>\n",
       "      <th>1</th>\n",
       "      <td>\"Kaguya-sama: Love Is War\" Special Christmas V...</td>\n",
       "      <td>17364</td>\n",
       "      <td>189</td>\n",
       "      <td>https://i.redd.it/0picfnim4b781.jpg</td>\n",
       "      <td>2021-12-24 02:03:25</td>\n",
       "      <td>2</td>\n",
       "      <td>24</td>\n",
       "      <td>2021-12-24</td>\n",
       "      <td>2021-12-01</td>\n",
       "      <td>2021-12-01</td>\n",
       "    </tr>\n",
       "    <tr>\n",
       "      <th>2</th>\n",
       "      <td>Shingeki no Kyojin: The Final Season Part 2 - ...</td>\n",
       "      <td>16436</td>\n",
       "      <td>2635</td>\n",
       "      <td>https://www.reddit.com/r/anime/comments/s023oa...</td>\n",
       "      <td>2022-01-10 08:29:48</td>\n",
       "      <td>8</td>\n",
       "      <td>10</td>\n",
       "      <td>2022-01-10</td>\n",
       "      <td>2022-01-01</td>\n",
       "      <td>2022-01-01</td>\n",
       "    </tr>\n",
       "    <tr>\n",
       "      <th>3</th>\n",
       "      <td>I made a interactive map of anime based on MAL...</td>\n",
       "      <td>15572</td>\n",
       "      <td>432</td>\n",
       "      <td>https://i.redd.it/ktc5nrkq6kb81.gif</td>\n",
       "      <td>2022-01-14 12:55:55</td>\n",
       "      <td>12</td>\n",
       "      <td>14</td>\n",
       "      <td>2022-01-14</td>\n",
       "      <td>2022-01-01</td>\n",
       "      <td>2022-01-01</td>\n",
       "    </tr>\n",
       "    <tr>\n",
       "      <th>4</th>\n",
       "      <td>Cup Noodles Armageddon Commercial</td>\n",
       "      <td>14181</td>\n",
       "      <td>303</td>\n",
       "      <td>https://v.redd.it/1nzus5qqg3781</td>\n",
       "      <td>2021-12-23 00:17:29</td>\n",
       "      <td>0</td>\n",
       "      <td>23</td>\n",
       "      <td>2021-12-23</td>\n",
       "      <td>2021-12-01</td>\n",
       "      <td>2021-12-01</td>\n",
       "    </tr>\n",
       "  </tbody>\n",
       "</table>\n",
       "</div>"
      ],
      "text/plain": [
       "                                               title  score  total_comments  \\\n",
       "0  \"Mushoku Tensei\" Thank You Illustration by Dir...  17547             587   \n",
       "1  \"Kaguya-sama: Love Is War\" Special Christmas V...  17364             189   \n",
       "2  Shingeki no Kyojin: The Final Season Part 2 - ...  16436            2635   \n",
       "3  I made a interactive map of anime based on MAL...  15572             432   \n",
       "4                  Cup Noodles Armageddon Commercial  14181             303   \n",
       "\n",
       "                                            post_url        datetime_utc  \\\n",
       "0                https://i.redd.it/1h0riorejo681.jpg 2021-12-20 22:04:56   \n",
       "1                https://i.redd.it/0picfnim4b781.jpg 2021-12-24 02:03:25   \n",
       "2  https://www.reddit.com/r/anime/comments/s023oa... 2022-01-10 08:29:48   \n",
       "3                https://i.redd.it/ktc5nrkq6kb81.gif 2022-01-14 12:55:55   \n",
       "4                    https://v.redd.it/1nzus5qqg3781 2021-12-23 00:17:29   \n",
       "\n",
       "   hour  day        date      month year_month  \n",
       "0    22   20  2021-12-20 2021-12-01 2021-12-01  \n",
       "1     2   24  2021-12-24 2021-12-01 2021-12-01  \n",
       "2     8   10  2022-01-10 2022-01-01 2022-01-01  \n",
       "3    12   14  2022-01-14 2022-01-01 2022-01-01  \n",
       "4     0   23  2021-12-23 2021-12-01 2021-12-01  "
      ]
     },
     "execution_count": 65,
     "metadata": {},
     "output_type": "execute_result"
    }
   ],
   "source": [
    "# summary stats\n",
    "\n",
    "df.head()"
   ]
  },
  {
   "cell_type": "code",
   "execution_count": 88,
   "metadata": {},
   "outputs": [
    {
     "data": {
      "text/plain": [
       "[<matplotlib.lines.Line2D at 0x27bdd160ee0>]"
      ]
     },
     "execution_count": 88,
     "metadata": {},
     "output_type": "execute_result"
    },
    {
     "data": {
      "image/png": "[encoded data removed]",
      "text/plain": [
       "<Figure size 432x288 with 1 Axes>"
      ]
     },
     "metadata": {
      "needs_background": "light"
     },
     "output_type": "display_data"
    }
   ],
   "source": [
    "# frequency of posts over time\n",
    "\n",
    "df_date = df.groupby(['date'], as_index=False).agg(\n",
    "        count = ('score', 'count'),\n",
    "        mean_score = ('score', 'mean'),\n",
    "        mean_total_comments = ('total_comments', 'sum')\n",
    ")\n",
    "\n",
    "fig, ax = plt.subplots()\n",
    "ax.plot(df_date['date'], df_date['count'], label='count')"
   ]
  },
  {
   "cell_type": "code",
   "execution_count": null,
   "metadata": {},
   "outputs": [],
   "source": [
    "# distribution of score"
   ]
  },
  {
   "cell_type": "code",
   "execution_count": null,
   "metadata": {},
   "outputs": [],
   "source": [
    "# scatterplot of score to comment"
   ]
  },
  {
   "cell_type": "code",
   "execution_count": null,
   "metadata": {},
   "outputs": [],
   "source": []
  }
 ],
 "metadata": {
  "interpreter": {
   "hash": "ac59ebe37160ed0dfa835113d9b8498d9f09ceb179beaac4002f036b9467c963"
  },
  "kernelspec": {
   "display_name": "Python 3.9.6 64-bit",
   "language": "python",
   "name": "python3"
  },
  "language_info": {
   "codemirror_mode": {
    "name": "ipython",
    "version": 3
   },
   "file_extension": ".py",
   "mimetype": "text/x-python",
   "name": "python",
   "nbconvert_exporter": "python",
   "pygments_lexer": "ipython3",
   "version": "3.9.6"
  },
  "orig_nbformat": 4
 },
 "nbformat": 4,
 "nbformat_minor": 2
}
